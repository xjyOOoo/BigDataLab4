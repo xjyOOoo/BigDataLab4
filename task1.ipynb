{
 "cells": [
  {
   "cell_type": "code",
   "execution_count": 3,
   "metadata": {},
   "outputs": [
    {
     "name": "stderr",
     "output_type": "stream",
     "text": [
      "                                                                                \r"
     ]
    }
   ],
   "source": [
    "from pyspark.sql import SparkSession\n",
    "spark = SparkSession.builder.appName(\"Daily Capital Flow Calculation with RDD\").getOrCreate()\n",
    "rdd = spark.read.csv(\"user_balance_table.csv\", header=True, inferSchema=True).rdd\n",
    "mapped_rdd = rdd.map(lambda row: (row[\"report_date\"], (row[\"total_purchase_amt\"], row[\"total_redeem_amt\"])))\n",
    "aggregated_rdd = mapped_rdd.reduceByKey(lambda a, b: (a[0] + b[0], a[1] + b[1]))\n",
    "sorted_rdd = aggregated_rdd.sortByKey()\n",
    "result_rdd = sorted_rdd.map(lambda x: (x[0], x[1][0], x[1][1]))\n",
    "result_rdd.saveAsTextFile(\"task1_result\")\n",
    "spark.stop()\n"
   ]
  },
  {
   "cell_type": "code",
   "execution_count": 2,
   "metadata": {},
   "outputs": [
    {
     "name": "stdout",
     "output_type": "stream",
     "text": [
      "12767\n"
     ]
    }
   ],
   "source": [
    "from pyspark.sql import SparkSession\n",
    "from datetime import datetime\n",
    "\n",
    "spark = SparkSession.builder.appName(\"Active Users Calculation\").getOrCreate()\n",
    "file_path = \"user_balance_table.csv\"  \n",
    "rdd = spark.read.csv(file_path, header=True, inferSchema=True).rdd\n",
    "\n",
    "filtered_rdd = rdd.filter(lambda row: datetime.strptime(str(row[\"report_date\"]), \"%Y%m%d\").strftime(\"%Y%m\") == \"201408\").map(lambda row: (row[\"user_id\"], row[\"report_date\"]))\n",
    "\n",
    "user_active_days = filtered_rdd.distinct()\n",
    "user_active_days_count = user_active_days.mapValues(lambda x: 1).reduceByKey(lambda a, b: a + b)\n",
    "\n",
    "active_users = user_active_days_count.filter(lambda x: x[1] >= 5)\n",
    "active_user_count = active_users.count()\n",
    "print(active_user_count)\n",
    "spark.stop()"
   ]
  }
 ],
 "metadata": {
  "kernelspec": {
   "display_name": "spark",
   "language": "python",
   "name": "python3"
  },
  "language_info": {
   "codemirror_mode": {
    "name": "ipython",
    "version": 3
   },
   "file_extension": ".py",
   "mimetype": "text/x-python",
   "name": "python",
   "nbconvert_exporter": "python",
   "pygments_lexer": "ipython3",
   "version": "3.10.0"
  }
 },
 "nbformat": 4,
 "nbformat_minor": 2
}
