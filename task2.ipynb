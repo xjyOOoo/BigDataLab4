{
 "cells": [
  {
   "cell_type": "code",
   "execution_count": 4,
   "metadata": {},
   "outputs": [
    {
     "name": "stderr",
     "output_type": "stream",
     "text": [
      "                                                                                \r"
     ]
    },
    {
     "name": "stdout",
     "output_type": "stream",
     "text": [
      "+-------+------------------+\n",
      "|   city|      avg_tBalance|\n",
      "+-------+------------------+\n",
      "|6281949| 2795923.837298216|\n",
      "|6301949|2650775.0664451825|\n",
      "|6081949|2643912.7566638007|\n",
      "|6481949|2087617.2136986302|\n",
      "|6411949|1929838.5617977527|\n",
      "|6412149| 1896363.471625767|\n",
      "|6581949|1526555.5551020408|\n",
      "+-------+------------------+\n",
      "\n"
     ]
    },
    {
     "name": "stderr",
     "output_type": "stream",
     "text": [
      "                                                                                \r"
     ]
    },
    {
     "name": "stdout",
     "output_type": "stream",
     "text": [
      "+-------+-------+----------+----+\n",
      "|   city|user_id|total_flow|rank|\n",
      "+-------+-------+----------+----+\n",
      "|6081949|  27235| 108475680|   1|\n",
      "|6081949|  27746|  76065458|   2|\n",
      "|6081949|  18945|  55304049|   3|\n",
      "|6281949|  15118| 149311909|   1|\n",
      "|6281949|  11397| 124293438|   2|\n",
      "|6281949|  25814| 104428054|   3|\n",
      "|6301949|   2429| 109171121|   1|\n",
      "|6301949|  26825|  95374030|   2|\n",
      "|6301949|  10932|  74016744|   3|\n",
      "|6411949|    662|  75162566|   1|\n",
      "|6411949|  21030|  49933641|   2|\n",
      "|6411949|  16769|  49383506|   3|\n",
      "|6412149|  22585| 200516731|   1|\n",
      "|6412149|  14472| 138262790|   2|\n",
      "|6412149|  25147|  70594902|   3|\n",
      "|6481949|  12026|  51161825|   1|\n",
      "|6481949|    670|  49626204|   2|\n",
      "|6481949|  14877|  34488733|   3|\n",
      "|6581949|   9494|  38854436|   1|\n",
      "|6581949|  26876|  23449539|   2|\n",
      "+-------+-------+----------+----+\n",
      "only showing top 20 rows\n",
      "\n"
     ]
    },
    {
     "name": "stderr",
     "output_type": "stream",
     "text": [
      "                                                                                \r"
     ]
    }
   ],
   "source": [
    "from pyspark.sql import SparkSession\n",
    "from pyspark.sql.functions import to_date, avg, col, sum as spark_sum, row_number\n",
    "from pyspark.sql.window import Window\n",
    "\n",
    "spark = SparkSession.builder.appName(\"UserDataAnalysis\").getOrCreate()\n",
    "# 2.1\n",
    "transaction_df = spark.read.csv(\"user_balance_table.csv\", header=True, inferSchema=True)\n",
    "user_info_df = spark.read.csv(\"user_profile_table.csv\", header=True, inferSchema=True)\n",
    "data_df = transaction_df.join(user_info_df, on='user_id')\n",
    "data_df = data_df.withColumn(\"report_date\", to_date(col(\"report_date\").cast(\"string\"), \"yyyyMMdd\"))\n",
    "march1_data = data_df.filter(col(\"report_date\") == '2014-03-01')\n",
    "avg_balance_per_city = march1_data.groupBy(\"city\").agg(avg(\"tBalance\").alias(\"avg_tBalance\")).orderBy(col(\"avg_tBalance\").desc())\n",
    "avg_balance_per_city.show()\n",
    "avg_balance_per_city.write.csv(\"task2_result/2.1\")\n",
    "\n",
    "# 2.2\n",
    "august_data = data_df.filter((col(\"report_date\") >= '2014-08-01') & (col(\"report_date\") <= '2014-08-31'))\n",
    "total_flow_per_user_city = august_data.groupBy(\"city\", \"user_id\").agg(spark_sum(\"total_purchase_amt\").alias(\"total_purchase_amt\"),spark_sum(\"total_redeem_amt\").alias(\"total_redeem_amt\")).withColumn(\"total_flow\", col(\"total_purchase_amt\") + col(\"total_redeem_amt\"))\n",
    "window_spec = Window.partitionBy(\"city\").orderBy(col(\"total_flow\").desc())\n",
    "ranked_users = total_flow_per_user_city.withColumn(\"rank\", row_number().over(window_spec))\n",
    "top3_users_per_city = ranked_users.filter(col(\"rank\") <= 3).select(\"city\", \"user_id\", \"total_flow\", \"rank\").orderBy(\"city\", \"rank\")\n",
    "top3_users_per_city.show()\n",
    "top3_users_per_city.write.csv(\"task2_result/2.2\")\n",
    "spark.stop()"
   ]
  }
 ],
 "metadata": {
  "kernelspec": {
   "display_name": "spark",
   "language": "python",
   "name": "python3"
  },
  "language_info": {
   "codemirror_mode": {
    "name": "ipython",
    "version": 3
   },
   "file_extension": ".py",
   "mimetype": "text/x-python",
   "name": "python",
   "nbconvert_exporter": "python",
   "pygments_lexer": "ipython3",
   "version": "3.10.0"
  }
 },
 "nbformat": 4,
 "nbformat_minor": 2
}
