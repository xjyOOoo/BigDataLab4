{
 "cells": [
  {
   "cell_type": "code",
   "execution_count": 1,
   "metadata": {},
   "outputs": [
    {
     "name": "stderr",
     "output_type": "stream",
     "text": [
      "24/12/08 17:04:40 WARN Utils: Your hostname, jyxiedeMacBook-Pro.local resolves to a loopback address: 127.0.0.1; using 10.22.77.245 instead (on interface en0)\n",
      "24/12/08 17:04:40 WARN Utils: Set SPARK_LOCAL_IP if you need to bind to another address\n",
      "Setting default log level to \"WARN\".\n",
      "To adjust logging level use sc.setLogLevel(newLevel). For SparkR, use setLogLevel(newLevel).\n",
      "24/12/08 17:04:41 WARN NativeCodeLoader: Unable to load native-hadoop library for your platform... using builtin-java classes where applicable\n",
      "24/12/08 17:04:42 WARN Utils: Service 'SparkUI' could not bind on port 4040. Attempting port 4041.\n"
     ]
    },
    {
     "name": "stdout",
     "output_type": "stream",
     "text": [
      "root\n",
      " |-- report_date: integer (nullable = true)\n",
      " |-- tBalance: integer (nullable = true)\n",
      " |-- yBalance: integer (nullable = true)\n",
      " |-- total_purchase_amt: integer (nullable = true)\n",
      " |-- direct_purchase_amt: integer (nullable = true)\n",
      " |-- purchase_bal_amt: integer (nullable = true)\n",
      " |-- purchase_bank_amt: integer (nullable = true)\n",
      " |-- total_redeem_amt: integer (nullable = true)\n",
      " |-- consume_amt: integer (nullable = true)\n",
      " |-- transfer_amt: integer (nullable = true)\n",
      " |-- tftobal_amt: integer (nullable = true)\n",
      " |-- tftocard_amt: integer (nullable = true)\n",
      " |-- share_amt: integer (nullable = true)\n",
      "\n"
     ]
    },
    {
     "name": "stderr",
     "output_type": "stream",
     "text": [
      "                                                                                \r"
     ]
    },
    {
     "name": "stdout",
     "output_type": "stream",
     "text": [
      "+-----------+--------+--------+------------------+-------------------+----------------+-----------------+----------------+-----------+------------+-----------+------------+---------+\n",
      "|report_date|tBalance|yBalance|total_purchase_amt|direct_purchase_amt|purchase_bal_amt|purchase_bank_amt|total_redeem_amt|consume_amt|transfer_amt|tftobal_amt|tftocard_amt|share_amt|\n",
      "+-----------+--------+--------+------------------+-------------------+----------------+-----------------+----------------+-----------+------------+-----------+------------+---------+\n",
      "|   20140805|   20385|   20383|                 2|                  0|               0|                0|               0|          0|           0|          0|           0|        2|\n",
      "|   20140808|   20391|   20389|                 2|                  0|               0|                0|               0|          0|           0|          0|           0|        2|\n",
      "|   20140811|   20397|   20395|                 2|                  0|               0|                0|               0|          0|           0|          0|           0|        2|\n",
      "|   20140814|   20403|   20401|                 2|                  0|               0|                0|               0|          0|           0|          0|           0|        2|\n",
      "|   20140817|   20409|   20407|                 2|                  0|               0|                0|               0|          0|           0|          0|           0|        2|\n",
      "+-----------+--------+--------+------------------+-------------------+----------------+-----------------+----------------+-----------+------------+-----------+------------+---------+\n",
      "only showing top 5 rows\n",
      "\n"
     ]
    },
    {
     "name": "stderr",
     "output_type": "stream",
     "text": [
      "                                                                                \r"
     ]
    },
    {
     "name": "stdout",
     "output_type": "stream",
     "text": [
      "+-----------+--------+--------+------------------+-------------------+----------------+-----------------+----------------+-----------+------------+-----------+------------+---------+\n",
      "|report_date|tBalance|yBalance|total_purchase_amt|direct_purchase_amt|purchase_bal_amt|purchase_bank_amt|total_redeem_amt|consume_amt|transfer_amt|tftobal_amt|tftocard_amt|share_amt|\n",
      "+-----------+--------+--------+------------------+-------------------+----------------+-----------------+----------------+-----------+------------+-----------+------------+---------+\n",
      "| 2014-08-05|   20385|   20383|                 2|                  0|               0|                0|               0|          0|           0|          0|           0|        2|\n",
      "| 2014-08-08|   20391|   20389|                 2|                  0|               0|                0|               0|          0|           0|          0|           0|        2|\n",
      "| 2014-08-11|   20397|   20395|                 2|                  0|               0|                0|               0|          0|           0|          0|           0|        2|\n",
      "| 2014-08-14|   20403|   20401|                 2|                  0|               0|                0|               0|          0|           0|          0|           0|        2|\n",
      "| 2014-08-17|   20409|   20407|                 2|                  0|               0|                0|               0|          0|           0|          0|           0|        2|\n",
      "+-----------+--------+--------+------------------+-------------------+----------------+-----------------+----------------+-----------+------------+-----------+------------+---------+\n",
      "only showing top 5 rows\n",
      "\n"
     ]
    },
    {
     "name": "stderr",
     "output_type": "stream",
     "text": [
      "                                                                                \r"
     ]
    },
    {
     "name": "stdout",
     "output_type": "stream",
     "text": [
      "+-----------+------------------+----------------+\n",
      "|report_date|total_purchase_amt|total_redeem_amt|\n",
      "+-----------+------------------+----------------+\n",
      "| 2013-09-09|          49312473|        45621186|\n",
      "| 2013-09-19|          24778048|        11418512|\n",
      "| 2014-08-01|         374884735|       252540858|\n",
      "| 2014-06-03|         270887462|       385622582|\n",
      "| 2014-06-11|         327661453|       246127540|\n",
      "| 2014-02-16|         331324628|       183057224|\n",
      "| 2014-01-24|         614103894|       345829001|\n",
      "| 2013-09-12|          68573684|        45147220|\n",
      "| 2014-08-13|         261506619|       303975517|\n",
      "| 2013-11-18|         195766477|       136916782|\n",
      "+-----------+------------------+----------------+\n",
      "only showing top 10 rows\n",
      "\n"
     ]
    },
    {
     "name": "stderr",
     "output_type": "stream",
     "text": [
      "                                                                                \r"
     ]
    },
    {
     "name": "stdout",
     "output_type": "stream",
     "text": [
      "+-----------+------------------+----------------+----+-----+---+-----------+\n",
      "|report_date|total_purchase_amt|total_redeem_amt|year|month|day|day_of_week|\n",
      "+-----------+------------------+----------------+----+-----+---+-----------+\n",
      "| 2013-09-09|          49312473|        45621186|2013|    9|  9|          2|\n",
      "| 2013-09-19|          24778048|        11418512|2013|    9| 19|          5|\n",
      "| 2014-08-01|         374884735|       252540858|2014|    8|  1|          6|\n",
      "| 2014-06-03|         270887462|       385622582|2014|    6|  3|          3|\n",
      "| 2014-06-11|         327661453|       246127540|2014|    6| 11|          4|\n",
      "+-----------+------------------+----------------+----+-----+---+-----------+\n",
      "only showing top 5 rows\n",
      "\n"
     ]
    },
    {
     "name": "stderr",
     "output_type": "stream",
     "text": [
      "                                                                                \r"
     ]
    },
    {
     "name": "stdout",
     "output_type": "stream",
     "text": [
      "+-----------+--------------------+------------------+----------------+\n",
      "|report_date|            features|total_purchase_amt|total_redeem_amt|\n",
      "+-----------+--------------------+------------------+----------------+\n",
      "| 2013-09-09|[2013.0,9.0,9.0,2.0]|          49312473|        45621186|\n",
      "| 2013-09-19|[2013.0,9.0,19.0,...|          24778048|        11418512|\n",
      "| 2014-08-01|[2014.0,8.0,1.0,6.0]|         374884735|       252540858|\n",
      "| 2014-06-03|[2014.0,6.0,3.0,3.0]|         270887462|       385622582|\n",
      "| 2014-06-11|[2014.0,6.0,11.0,...|         327661453|       246127540|\n",
      "+-----------+--------------------+------------------+----------------+\n",
      "only showing top 5 rows\n",
      "\n",
      "预测日期数量: 30\n"
     ]
    },
    {
     "name": "stderr",
     "output_type": "stream",
     "text": [
      "24/12/08 17:05:07 WARN Instrumentation: [219da130] regParam is zero, which might cause numerical instability and overfitting.\n",
      "24/12/08 17:05:07 WARN InstanceBuilder: Failed to load implementation from:dev.ludovic.netlib.blas.JNIBLAS\n",
      "24/12/08 17:05:08 WARN InstanceBuilder: Failed to load implementation from:dev.ludovic.netlib.lapack.JNILAPACK\n",
      "24/12/08 17:05:14 WARN Instrumentation: [6e18914c] regParam is zero, which might cause numerical instability and overfitting.\n",
      "                                                                                \r"
     ]
    },
    {
     "name": "stdout",
     "output_type": "stream",
     "text": [
      "预测日期: 2014-09-01\n"
     ]
    },
    {
     "name": "stderr",
     "output_type": "stream",
     "text": [
      "                                                                                \r"
     ]
    },
    {
     "name": "stdout",
     "output_type": "stream",
     "text": [
      "预测 total_purchase_amt: 286724349, total_redeem_amt: 301312857\n"
     ]
    },
    {
     "name": "stderr",
     "output_type": "stream",
     "text": [
      "24/12/08 17:05:24 WARN Instrumentation: [915bff63] regParam is zero, which might cause numerical instability and overfitting.\n",
      "24/12/08 17:05:32 WARN Instrumentation: [13e2fb05] regParam is zero, which might cause numerical instability and overfitting.\n",
      "                                                                                \r"
     ]
    },
    {
     "name": "stdout",
     "output_type": "stream",
     "text": [
      "预测日期: 2014-09-02\n",
      "预测 total_purchase_amt: 273757046, total_redeem_amt: 289312134\n"
     ]
    },
    {
     "name": "stderr",
     "output_type": "stream",
     "text": [
      "24/12/08 17:05:41 WARN Instrumentation: [37ef8ee5] regParam is zero, which might cause numerical instability and overfitting.\n",
      "24/12/08 17:05:49 WARN Instrumentation: [ec46fa11] regParam is zero, which might cause numerical instability and overfitting.\n",
      "                                                                                \r"
     ]
    },
    {
     "name": "stdout",
     "output_type": "stream",
     "text": [
      "预测日期: 2014-09-03\n",
      "预测 total_purchase_amt: 262649261, total_redeem_amt: 279232117\n"
     ]
    },
    {
     "name": "stderr",
     "output_type": "stream",
     "text": [
      "24/12/08 17:05:58 WARN Instrumentation: [c910cfdd] regParam is zero, which might cause numerical instability and overfitting.\n",
      "24/12/08 17:06:05 WARN Instrumentation: [3ef3b133] regParam is zero, which might cause numerical instability and overfitting.\n",
      "                                                                                \r"
     ]
    },
    {
     "name": "stdout",
     "output_type": "stream",
     "text": [
      "预测日期: 2014-09-04\n",
      "预测 total_purchase_amt: 252716229, total_redeem_amt: 270362950\n"
     ]
    },
    {
     "name": "stderr",
     "output_type": "stream",
     "text": [
      "24/12/08 17:06:13 WARN Instrumentation: [d5b3574b] regParam is zero, which might cause numerical instability and overfitting.\n",
      "24/12/08 17:06:21 WARN Instrumentation: [e0c0d95f] regParam is zero, which might cause numerical instability and overfitting.\n",
      "                                                                                \r"
     ]
    },
    {
     "name": "stdout",
     "output_type": "stream",
     "text": [
      "预测日期: 2014-09-05\n",
      "预测 total_purchase_amt: 243388881, total_redeem_amt: 262107808\n"
     ]
    },
    {
     "name": "stderr",
     "output_type": "stream",
     "text": [
      "24/12/08 17:06:29 WARN Instrumentation: [2909218d] regParam is zero, which might cause numerical instability and overfitting.\n",
      "24/12/08 17:06:37 WARN Instrumentation: [6e505c02] regParam is zero, which might cause numerical instability and overfitting.\n",
      "                                                                                \r"
     ]
    },
    {
     "name": "stdout",
     "output_type": "stream",
     "text": [
      "预测日期: 2014-09-06\n",
      "预测 total_purchase_amt: 234184023, total_redeem_amt: 253952513\n"
     ]
    },
    {
     "name": "stderr",
     "output_type": "stream",
     "text": [
      "24/12/08 17:06:45 WARN Instrumentation: [62707aab] regParam is zero, which might cause numerical instability and overfitting.\n",
      "24/12/08 17:06:54 WARN Instrumentation: [83ef9801] regParam is zero, which might cause numerical instability and overfitting.\n",
      "                                                                                \r"
     ]
    },
    {
     "name": "stdout",
     "output_type": "stream",
     "text": [
      "预测日期: 2014-09-07\n",
      "预测 total_purchase_amt: 224691093, total_redeem_amt: 245452428\n"
     ]
    },
    {
     "name": "stderr",
     "output_type": "stream",
     "text": [
      "24/12/08 17:07:05 WARN Instrumentation: [97ed2ca6] regParam is zero, which might cause numerical instability and overfitting.\n",
      "24/12/08 17:07:16 WARN Instrumentation: [6fc6be2d] regParam is zero, which might cause numerical instability and overfitting.\n",
      "                                                                                \r"
     ]
    },
    {
     "name": "stdout",
     "output_type": "stream",
     "text": [
      "预测日期: 2014-09-08\n",
      "预测 total_purchase_amt: 260706319, total_redeem_amt: 283168628\n"
     ]
    },
    {
     "name": "stderr",
     "output_type": "stream",
     "text": [
      "24/12/08 17:07:27 WARN Instrumentation: [874663f4] regParam is zero, which might cause numerical instability and overfitting.\n",
      "24/12/08 17:07:39 WARN Instrumentation: [5654ebc4] regParam is zero, which might cause numerical instability and overfitting.\n",
      "                                                                                \r"
     ]
    },
    {
     "name": "stdout",
     "output_type": "stream",
     "text": [
      "预测日期: 2014-09-09\n",
      "预测 total_purchase_amt: 250616507, total_redeem_amt: 274010454\n"
     ]
    },
    {
     "name": "stderr",
     "output_type": "stream",
     "text": [
      "24/12/08 17:07:51 WARN Instrumentation: [4c53d98e] regParam is zero, which might cause numerical instability and overfitting.\n",
      "24/12/08 17:08:03 WARN Instrumentation: [f8f79cbc] regParam is zero, which might cause numerical instability and overfitting.\n",
      "                                                                                \r"
     ]
    },
    {
     "name": "stdout",
     "output_type": "stream",
     "text": [
      "预测日期: 2014-09-10\n",
      "预测 total_purchase_amt: 241884362, total_redeem_amt: 266299884\n"
     ]
    },
    {
     "name": "stderr",
     "output_type": "stream",
     "text": [
      "24/12/08 17:08:14 WARN Instrumentation: [f8408c60] regParam is zero, which might cause numerical instability and overfitting.\n",
      "24/12/08 17:08:24 WARN Instrumentation: [bf1cecef] regParam is zero, which might cause numerical instability and overfitting.\n",
      "                                                                                \r"
     ]
    },
    {
     "name": "stdout",
     "output_type": "stream",
     "text": [
      "预测日期: 2014-09-11\n",
      "预测 total_purchase_amt: 233952886, total_redeem_amt: 259439869\n"
     ]
    },
    {
     "name": "stderr",
     "output_type": "stream",
     "text": [
      "24/12/08 17:08:35 WARN Instrumentation: [8fd94241] regParam is zero, which might cause numerical instability and overfitting.\n",
      "24/12/08 17:08:47 WARN Instrumentation: [aa11a4b5] regParam is zero, which might cause numerical instability and overfitting.\n",
      "                                                                                \r"
     ]
    },
    {
     "name": "stdout",
     "output_type": "stream",
     "text": [
      "预测日期: 2014-09-12\n",
      "预测 total_purchase_amt: 226343119, total_redeem_amt: 252909187\n"
     ]
    },
    {
     "name": "stderr",
     "output_type": "stream",
     "text": [
      "24/12/08 17:09:00 WARN Instrumentation: [351ff29f] regParam is zero, which might cause numerical instability and overfitting.\n",
      "24/12/08 17:09:12 WARN Instrumentation: [e7646b66] regParam is zero, which might cause numerical instability and overfitting.\n",
      "                                                                                \r"
     ]
    },
    {
     "name": "stdout",
     "output_type": "stream",
     "text": [
      "预测日期: 2014-09-13\n",
      "预测 total_purchase_amt: 218636611, total_redeem_amt: 246244146\n"
     ]
    },
    {
     "name": "stderr",
     "output_type": "stream",
     "text": [
      "24/12/08 17:09:24 WARN Instrumentation: [cadf4b09] regParam is zero, which might cause numerical instability and overfitting.\n",
      "24/12/08 17:09:37 WARN Instrumentation: [31382208] regParam is zero, which might cause numerical instability and overfitting.\n",
      "                                                                                \r"
     ]
    },
    {
     "name": "stdout",
     "output_type": "stream",
     "text": [
      "预测日期: 2014-09-14\n",
      "预测 total_purchase_amt: 210470174, total_redeem_amt: 239033612\n"
     ]
    },
    {
     "name": "stderr",
     "output_type": "stream",
     "text": [
      "24/12/08 17:09:50 WARN Instrumentation: [eb9c6d68] regParam is zero, which might cause numerical instability and overfitting.\n",
      "24/12/08 17:10:03 WARN Instrumentation: [38988e44] regParam is zero, which might cause numerical instability and overfitting.\n",
      "                                                                                \r"
     ]
    },
    {
     "name": "stdout",
     "output_type": "stream",
     "text": [
      "预测日期: 2014-09-15\n",
      "预测 total_purchase_amt: 247275983, total_redeem_amt: 277630853\n"
     ]
    },
    {
     "name": "stderr",
     "output_type": "stream",
     "text": [
      "24/12/08 17:10:17 WARN Instrumentation: [c7f40f84] regParam is zero, which might cause numerical instability and overfitting.\n",
      "24/12/08 17:10:30 WARN Instrumentation: [79e6f4fe] regParam is zero, which might cause numerical instability and overfitting.\n",
      "                                                                                \r"
     ]
    },
    {
     "name": "stdout",
     "output_type": "stream",
     "text": [
      "预测日期: 2014-09-16\n",
      "预测 total_purchase_amt: 238196514, total_redeem_amt: 269402200\n"
     ]
    },
    {
     "name": "stderr",
     "output_type": "stream",
     "text": [
      "24/12/08 17:10:44 WARN Instrumentation: [96068306] regParam is zero, which might cause numerical instability and overfitting.\n",
      "24/12/08 17:10:58 WARN Instrumentation: [002dc86e] regParam is zero, which might cause numerical instability and overfitting.\n",
      "                                                                                \r"
     ]
    },
    {
     "name": "stdout",
     "output_type": "stream",
     "text": [
      "预测日期: 2014-09-17\n",
      "预测 total_purchase_amt: 230213149, total_redeem_amt: 262378064\n"
     ]
    },
    {
     "name": "stderr",
     "output_type": "stream",
     "text": [
      "24/12/08 17:11:12 WARN Instrumentation: [facc0797] regParam is zero, which might cause numerical instability and overfitting.\n",
      "24/12/08 17:11:26 WARN Instrumentation: [ad1e4cbf] regParam is zero, which might cause numerical instability and overfitting.\n",
      "                                                                                \r"
     ]
    },
    {
     "name": "stdout",
     "output_type": "stream",
     "text": [
      "预测日期: 2014-09-18\n",
      "预测 total_purchase_amt: 222828010, total_redeem_amt: 256005982\n"
     ]
    },
    {
     "name": "stderr",
     "output_type": "stream",
     "text": [
      "24/12/08 17:11:41 WARN Instrumentation: [141827cb] regParam is zero, which might cause numerical instability and overfitting.\n",
      "24/12/08 17:11:55 WARN Instrumentation: [fe661931] regParam is zero, which might cause numerical instability and overfitting.\n",
      "                                                                                \r"
     ]
    },
    {
     "name": "stdout",
     "output_type": "stream",
     "text": [
      "预测日期: 2014-09-19\n",
      "预测 total_purchase_amt: 215607863, total_redeem_amt: 249796651\n"
     ]
    },
    {
     "name": "stderr",
     "output_type": "stream",
     "text": [
      "24/12/08 17:12:11 WARN Instrumentation: [64f1190f] regParam is zero, which might cause numerical instability and overfitting.\n",
      "24/12/08 17:12:25 WARN Instrumentation: [89ab2f28] regParam is zero, which might cause numerical instability and overfitting.\n",
      "                                                                                \r"
     ]
    },
    {
     "name": "stdout",
     "output_type": "stream",
     "text": [
      "预测日期: 2014-09-20\n",
      "预测 total_purchase_amt: 208172191, total_redeem_amt: 243311248\n"
     ]
    },
    {
     "name": "stderr",
     "output_type": "stream",
     "text": [
      "24/12/08 17:12:40 WARN Instrumentation: [f29d00e1] regParam is zero, which might cause numerical instability and overfitting.\n",
      "24/12/08 17:12:55 WARN Instrumentation: [ca44f028] regParam is zero, which might cause numerical instability and overfitting.\n",
      "                                                                                \r"
     ]
    },
    {
     "name": "stdout",
     "output_type": "stream",
     "text": [
      "预测日期: 2014-09-21\n",
      "预测 total_purchase_amt: 200191631, total_redeem_amt: 236160469\n"
     ]
    },
    {
     "name": "stderr",
     "output_type": "stream",
     "text": [
      "24/12/08 17:13:11 WARN Instrumentation: [013a1677] regParam is zero, which might cause numerical instability and overfitting.\n",
      "24/12/08 17:13:26 WARN Instrumentation: [8f061e6a] regParam is zero, which might cause numerical instability and overfitting.\n",
      "                                                                                \r"
     ]
    },
    {
     "name": "stdout",
     "output_type": "stream",
     "text": [
      "预测日期: 2014-09-22\n",
      "预测 total_purchase_amt: 236509953, total_redeem_amt: 274235190\n"
     ]
    },
    {
     "name": "stderr",
     "output_type": "stream",
     "text": [
      "24/12/08 17:13:43 WARN Instrumentation: [b434c7f8] regParam is zero, which might cause numerical instability and overfitting.\n",
      "24/12/08 17:13:58 WARN Instrumentation: [ae703e1b] regParam is zero, which might cause numerical instability and overfitting.\n",
      "                                                                                \r"
     ]
    },
    {
     "name": "stdout",
     "output_type": "stream",
     "text": [
      "预测日期: 2014-09-23\n",
      "预测 total_purchase_amt: 227353141, total_redeem_amt: 265741597\n"
     ]
    },
    {
     "name": "stderr",
     "output_type": "stream",
     "text": [
      "24/12/08 17:14:15 WARN Instrumentation: [c4e47724] regParam is zero, which might cause numerical instability and overfitting.\n",
      "24/12/08 17:14:31 WARN Instrumentation: [bfbfe986] regParam is zero, which might cause numerical instability and overfitting.\n",
      "                                                                                \r"
     ]
    },
    {
     "name": "stdout",
     "output_type": "stream",
     "text": [
      "预测日期: 2014-09-24\n",
      "预测 total_purchase_amt: 219132727, total_redeem_amt: 258303141\n"
     ]
    },
    {
     "name": "stderr",
     "output_type": "stream",
     "text": [
      "24/12/08 17:14:48 WARN Instrumentation: [7fc89f78] regParam is zero, which might cause numerical instability and overfitting.\n",
      "24/12/08 17:15:05 WARN Instrumentation: [311ec008] regParam is zero, which might cause numerical instability and overfitting.\n",
      "                                                                                \r"
     ]
    },
    {
     "name": "stdout",
     "output_type": "stream",
     "text": [
      "预测日期: 2014-09-25\n",
      "预测 total_purchase_amt: 211387621, total_redeem_amt: 251390567\n"
     ]
    },
    {
     "name": "stderr",
     "output_type": "stream",
     "text": [
      "24/12/08 17:15:22 WARN Instrumentation: [aad5a644] regParam is zero, which might cause numerical instability and overfitting.\n",
      "24/12/08 17:15:40 WARN Instrumentation: [5847e048] regParam is zero, which might cause numerical instability and overfitting.\n",
      "                                                                                \r"
     ]
    },
    {
     "name": "stdout",
     "output_type": "stream",
     "text": [
      "预测日期: 2014-09-26\n",
      "预测 total_purchase_amt: 203719717, total_redeem_amt: 244537741\n"
     ]
    },
    {
     "name": "stderr",
     "output_type": "stream",
     "text": [
      "24/12/08 17:15:57 WARN Instrumentation: [ffee0f2c] regParam is zero, which might cause numerical instability and overfitting.\n",
      "24/12/08 17:16:14 WARN Instrumentation: [7a5a2b84] regParam is zero, which might cause numerical instability and overfitting.\n",
      "                                                                                \r"
     ]
    },
    {
     "name": "stdout",
     "output_type": "stream",
     "text": [
      "预测日期: 2014-09-27\n",
      "预测 total_purchase_amt: 195784741, total_redeem_amt: 237331889\n"
     ]
    },
    {
     "name": "stderr",
     "output_type": "stream",
     "text": [
      "24/12/08 17:16:32 WARN Instrumentation: [dd76b3d9] regParam is zero, which might cause numerical instability and overfitting.\n",
      "24/12/08 17:16:50 WARN Instrumentation: [97230fef] regParam is zero, which might cause numerical instability and overfitting.\n",
      "                                                                                \r"
     ]
    },
    {
     "name": "stdout",
     "output_type": "stream",
     "text": [
      "预测日期: 2014-09-28\n",
      "预测 total_purchase_amt: 187292055, total_redeem_amt: 229414362\n"
     ]
    },
    {
     "name": "stderr",
     "output_type": "stream",
     "text": [
      "24/12/08 17:17:08 WARN Instrumentation: [912b8c43] regParam is zero, which might cause numerical instability and overfitting.\n",
      "24/12/08 17:17:08 WARN DAGScheduler: Broadcasting large task binary with size 1006.5 KiB\n",
      "24/12/08 17:17:12 WARN DAGScheduler: Broadcasting large task binary with size 1007.6 KiB\n",
      "24/12/08 17:17:26 WARN Instrumentation: [2b561ce9] regParam is zero, which might cause numerical instability and overfitting.\n",
      "24/12/08 17:17:26 WARN DAGScheduler: Broadcasting large task binary with size 1006.5 KiB\n",
      "24/12/08 17:17:30 WARN DAGScheduler: Broadcasting large task binary with size 1007.5 KiB\n",
      "                                                                                \r"
     ]
    },
    {
     "name": "stdout",
     "output_type": "stream",
     "text": [
      "预测日期: 2014-09-29\n",
      "预测 total_purchase_amt: 222246394, total_redeem_amt: 265909436\n"
     ]
    },
    {
     "name": "stderr",
     "output_type": "stream",
     "text": [
      "24/12/08 17:17:45 WARN Instrumentation: [e9f4823c] regParam is zero, which might cause numerical instability and overfitting.\n",
      "24/12/08 17:17:45 WARN DAGScheduler: Broadcasting large task binary with size 1038.8 KiB\n",
      "24/12/08 17:17:49 WARN DAGScheduler: Broadcasting large task binary with size 1039.8 KiB\n",
      "24/12/08 17:18:03 WARN Instrumentation: [23c7b4f5] regParam is zero, which might cause numerical instability and overfitting.\n",
      "24/12/08 17:18:03 WARN DAGScheduler: Broadcasting large task binary with size 1038.7 KiB\n",
      "24/12/08 17:18:08 WARN DAGScheduler: Broadcasting large task binary with size 1039.8 KiB\n",
      "                                                                                \r"
     ]
    },
    {
     "name": "stdout",
     "output_type": "stream",
     "text": [
      "预测日期: 2014-09-30\n",
      "预测 total_purchase_amt: 212374558, total_redeem_amt: 256383115\n"
     ]
    },
    {
     "name": "stderr",
     "output_type": "stream",
     "text": [
      "24/12/08 17:18:23 WARN Instrumentation: [962ffddd] regParam is zero, which might cause numerical instability and overfitting.\n",
      "24/12/08 17:18:23 WARN DAGScheduler: Broadcasting large task binary with size 1071.0 KiB\n",
      "24/12/08 17:18:27 WARN DAGScheduler: Broadcasting large task binary with size 1072.1 KiB\n",
      "24/12/08 17:18:42 WARN Instrumentation: [e804b238] regParam is zero, which might cause numerical instability and overfitting.\n",
      "24/12/08 17:18:42 WARN DAGScheduler: Broadcasting large task binary with size 1071.0 KiB\n",
      "24/12/08 17:18:47 WARN DAGScheduler: Broadcasting large task binary with size 1072.1 KiB\n",
      "                                                                                \r"
     ]
    },
    {
     "name": "stdout",
     "output_type": "stream",
     "text": [
      "+-----------+----------------------------+--------------------------+\n",
      "|report_date|predicted_total_purchase_amt|predicted_total_redeem_amt|\n",
      "+-----------+----------------------------+--------------------------+\n",
      "|   20140901|                   286724349|                 301312857|\n",
      "|   20140902|                   273757046|                 289312134|\n",
      "|   20140903|                   262649261|                 279232117|\n",
      "|   20140904|                   252716229|                 270362950|\n",
      "|   20140905|                   243388881|                 262107808|\n",
      "|   20140906|                   234184023|                 253952513|\n",
      "|   20140907|                   224691093|                 245452428|\n",
      "|   20140908|                   260706319|                 283168628|\n",
      "|   20140909|                   250616507|                 274010454|\n",
      "|   20140910|                   241884362|                 266299884|\n",
      "+-----------+----------------------------+--------------------------+\n",
      "only showing top 10 rows\n",
      "\n"
     ]
    }
   ],
   "source": [
    "from pyspark.sql import SparkSession\n",
    "from pyspark.sql.functions import udf, sum as _sum, col, sqrt, date_format, concat_ws\n",
    "from pyspark.sql.types import StructType, StructField, IntegerType, StringType, DateType, FloatType, Row\n",
    "import pyspark.sql.functions as F\n",
    "from pyspark.ml.feature import VectorAssembler\n",
    "from pyspark.ml.regression import LinearRegression\n",
    "from datetime import datetime\n",
    "import calendar\n",
    "\n",
    "spark = SparkSession.builder.appName(\"FundFlowLinearRegressionPrediction\").getOrCreate()\n",
    "schema_full = StructType([\n",
    "    StructField(\"user_id\", IntegerType(), False),\n",
    "    StructField(\"report_date\", IntegerType(), False),\n",
    "    StructField(\"tBalance\", IntegerType(), False),\n",
    "    StructField(\"yBalance\", IntegerType(), False),\n",
    "    StructField(\"total_purchase_amt\", IntegerType(), False),\n",
    "    StructField(\"direct_purchase_amt\", IntegerType(), False),\n",
    "    StructField(\"purchase_bal_amt\", IntegerType(), False),\n",
    "    StructField(\"purchase_bank_amt\", IntegerType(), False),\n",
    "    StructField(\"total_redeem_amt\", IntegerType(), False),\n",
    "    StructField(\"consume_amt\", IntegerType(), False),\n",
    "    StructField(\"transfer_amt\", IntegerType(), False),\n",
    "    StructField(\"tftobal_amt\", IntegerType(), False),\n",
    "    StructField(\"tftocard_amt\", IntegerType(), False),\n",
    "    StructField(\"share_amt\", IntegerType(), False),\n",
    "    StructField(\"category1\", StringType(), True),\n",
    "    StructField(\"category2\", StringType(), True),\n",
    "    StructField(\"category3\", StringType(), True),\n",
    "    StructField(\"category4\", StringType(), True)\n",
    "])\n",
    "\n",
    "data_path = \"user_balance_table.csv\"  \n",
    "df = spark.read.csv(data_path, header=True, schema=schema_full)\n",
    "df = df.drop(\"user_id\", \"category1\", \"category2\", \"category3\", \"category4\")\n",
    "def int_to_date(date_int):\n",
    "    return datetime.strptime(str(date_int), \"%Y%m%d\")\n",
    "\n",
    "int_to_date_udf = udf(int_to_date, DateType())\n",
    "df = df.withColumn(\"report_date\", int_to_date_udf(\"report_date\"))\n",
    "aggregated_df = df.groupBy(\"report_date\").agg(_sum(\"total_purchase_amt\").alias(\"total_purchase_amt\"),_sum(\"total_redeem_amt\").alias(\"total_redeem_amt\"))\n",
    "aggregated_df = aggregated_df.withColumn(\"year\", F.year(\"report_date\")) \\\n",
    "                             .withColumn(\"month\", F.month(\"report_date\")) \\\n",
    "                             .withColumn(\"day\", F.dayofmonth(\"report_date\")) \\\n",
    "                             .withColumn(\"day_of_week\", F.dayofweek(\"report_date\"))\n",
    "\n",
    "feature_cols = [\"year\", \"month\", \"day\", \"day_of_week\"]\n",
    "assembler = VectorAssembler(inputCols=feature_cols, outputCol=\"features\")\n",
    "assembled_df = assembler.transform(aggregated_df)\n",
    "assembled_df.select(\"report_date\", \"features\", \"total_purchase_amt\", \"total_redeem_amt\").show(5)\n",
    "train_df = assembled_df.filter(F.col(\"report_date\") <= '2014-08-31')\n",
    "year = 2014\n",
    "month = 9 \n",
    "_, num_days = calendar.monthrange(year, month) \n",
    "prediction_dates = [datetime.strptime(f\"{year}-{month:02d}-{day:02d}\", \"%Y-%m-%d\") for day in range(1, num_days + 1)]\n",
    "from pyspark.ml.regression import LinearRegression\n",
    "\n",
    "def recursive_linear_regression_prediction(spark, train_df, assembler, prediction_dates):\n",
    "    predictions = []\n",
    "    lr_purchase = LinearRegression(featuresCol='features', labelCol='total_purchase_amt')\n",
    "    lr_redeem = LinearRegression(featuresCol='features', labelCol='total_redeem_amt')\n",
    "    model_purchase = lr_purchase.fit(train_df)\n",
    "    model_redeem = lr_redeem.fit(train_df)\n",
    "    \n",
    "    for current_date in prediction_dates:\n",
    "        print(f\"{current_date.strftime('%Y-%m-%d')}\")\n",
    "        year_val = current_date.year\n",
    "        month_val = current_date.month\n",
    "        day_val = current_date.day\n",
    "        day_of_week_val = current_date.isoweekday()\n",
    "        new_row_data = [(year_val, month_val, day_val, day_of_week_val)]\n",
    "        new_row_schema = StructType([\n",
    "            StructField(\"year\", IntegerType(), False),\n",
    "            StructField(\"month\", IntegerType(), False),\n",
    "            StructField(\"day\", IntegerType(), False),\n",
    "            StructField(\"day_of_week\", IntegerType(), False)\n",
    "        ])\n",
    "        \n",
    "        new_row = spark.createDataFrame(new_row_data, schema=new_row_schema)\n",
    "        assembled_new_row = assembler.transform(new_row)\n",
    "        purchase_pred = model_purchase.transform(assembled_new_row).select(\"prediction\").collect()[0][0]\n",
    "        redeem_pred = model_redeem.transform(assembled_new_row).select(\"prediction\").collect()[0][0]\n",
    "        purchase_pred = max(0, int(round(purchase_pred)))\n",
    "        redeem_pred = max(0, int(round(redeem_pred)))\n",
    "        predictions.append({\n",
    "            \"report_date\": current_date.strftime(\"%Y%m%d\"),  \n",
    "            \"predicted_total_purchase_amt\": purchase_pred,\n",
    "            \"predicted_total_redeem_amt\": redeem_pred\n",
    "        })\n",
    "        new_train_row_data = [(current_date, year_val, month_val, day_val, day_of_week_val, purchase_pred, redeem_pred)]\n",
    "        new_train_schema = StructType([\n",
    "            StructField(\"report_date\", DateType(), False),\n",
    "            StructField(\"year\", IntegerType(), False),\n",
    "            StructField(\"month\", IntegerType(), False),\n",
    "            StructField(\"day\", IntegerType(), False),\n",
    "            StructField(\"day_of_week\", IntegerType(), False),\n",
    "            StructField(\"total_purchase_amt\", IntegerType(), False),\n",
    "            StructField(\"total_redeem_amt\", IntegerType(), False)\n",
    "        ])\n",
    "        \n",
    "        new_train_row = spark.createDataFrame(new_train_row_data, schema=new_train_schema)\n",
    "        assembled_new_train_row = assembler.transform(new_train_row)\n",
    "        train_df = train_df.union(assembled_new_train_row)\n",
    "        model_purchase = lr_purchase.fit(train_df)\n",
    "        model_redeem = lr_redeem.fit(train_df)\n",
    "    predictions_rows = [Row(**pred) for pred in predictions]\n",
    "    predictions_df = spark.createDataFrame(predictions_rows)\n",
    "    \n",
    "    return predictions_df\n",
    "predictions_df = recursive_linear_regression_prediction(\n",
    "    spark=spark,\n",
    "    train_df=train_df,\n",
    "    assembler=assembler,\n",
    "    prediction_dates=prediction_dates\n",
    ")\n",
    "predictions_df.show(10)"
   ]
  },
  {
   "cell_type": "code",
   "execution_count": 2,
   "metadata": {},
   "outputs": [
    {
     "name": "stderr",
     "output_type": "stream",
     "text": [
      "                                                                                \r"
     ]
    }
   ],
   "source": [
    "from pyspark.sql.functions import concat_ws\n",
    "formatted_predictions_df = predictions_df.select(\n",
    "    concat_ws(\",\", \n",
    "              col(\"report_date\"),\n",
    "              col(\"predicted_total_purchase_amt\"),\n",
    "              col(\"predicted_total_redeem_amt\")\n",
    "             ).alias(\"prediction\")\n",
    ")\n",
    "\n",
    "formatted_predictions_df.coalesce(1).write.mode(\"overwrite\").text(\"task3_result\")"
   ]
  }
 ],
 "metadata": {
  "kernelspec": {
   "display_name": "spark",
   "language": "python",
   "name": "python3"
  },
  "language_info": {
   "codemirror_mode": {
    "name": "ipython",
    "version": 3
   },
   "file_extension": ".py",
   "mimetype": "text/x-python",
   "name": "python",
   "nbconvert_exporter": "python",
   "pygments_lexer": "ipython3",
   "version": "3.10.0"
  }
 },
 "nbformat": 4,
 "nbformat_minor": 2
}
